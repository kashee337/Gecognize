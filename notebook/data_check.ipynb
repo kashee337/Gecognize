{
 "cells": [
  {
   "cell_type": "code",
   "execution_count": 4,
   "metadata": {},
   "outputs": [
    {
     "name": "stdout",
     "output_type": "stream",
     "text": [
      "The nb_black extension is already loaded. To reload it, use:\n",
      "  %reload_ext nb_black\n"
     ]
    },
    {
     "data": {
      "application/javascript": [
       "\n",
       "            setTimeout(function() {\n",
       "                var nbb_cell_id = 4;\n",
       "                var nbb_unformatted_code = \"%load_ext nb_black\\nimport pickle\\nimport cv2\\nimport glob\\nimport pandas as pd\\nimport numpy as np\\nfrom collections import defaultdict\\nimport sys\\nimport os\\n\\nsys.path.append(\\\"../src\\\")\\nfrom dtw import *\\nfrom main import normalize_traj\\nimport matplotlib.pyplot as plt\\nfrom ipywidgets import interact\";\n",
       "                var nbb_formatted_code = \"%load_ext nb_black\\nimport pickle\\nimport cv2\\nimport glob\\nimport pandas as pd\\nimport numpy as np\\nfrom collections import defaultdict\\nimport sys\\nimport os\\n\\nsys.path.append(\\\"../src\\\")\\nfrom dtw import *\\nfrom main import normalize_traj\\nimport matplotlib.pyplot as plt\\nfrom ipywidgets import interact\";\n",
       "                var nbb_cells = Jupyter.notebook.get_cells();\n",
       "                for (var i = 0; i < nbb_cells.length; ++i) {\n",
       "                    if (nbb_cells[i].input_prompt_number == nbb_cell_id) {\n",
       "                        if (nbb_cells[i].get_text() == nbb_unformatted_code) {\n",
       "                             nbb_cells[i].set_text(nbb_formatted_code);\n",
       "                        }\n",
       "                        break;\n",
       "                    }\n",
       "                }\n",
       "            }, 500);\n",
       "            "
      ],
      "text/plain": [
       "<IPython.core.display.Javascript object>"
      ]
     },
     "metadata": {},
     "output_type": "display_data"
    }
   ],
   "source": [
    "%load_ext nb_black\n",
    "import pickle\n",
    "import cv2\n",
    "import glob\n",
    "import pandas as pd\n",
    "import numpy as np\n",
    "from collections import defaultdict\n",
    "import sys\n",
    "import os\n",
    "\n",
    "sys.path.append(\"../src\")\n",
    "from dtw import *\n",
    "from main import normalize_traj\n",
    "import matplotlib.pyplot as plt\n",
    "from ipywidgets import interact"
   ]
  },
  {
   "cell_type": "code",
   "execution_count": 5,
   "metadata": {},
   "outputs": [
    {
     "data": {
      "application/javascript": [
       "\n",
       "            setTimeout(function() {\n",
       "                var nbb_cell_id = 5;\n",
       "                var nbb_unformatted_code = \"path_df = pd.DataFrame({\\\"path\\\": glob.glob(\\\"../data/template/*/*/*.pickle\\\")})\\npath_df[\\\"group\\\"] = path_df[\\\"path\\\"].agg(lambda t: t.split(\\\"/\\\")[-2])\\npath_df[\\\"template\\\"] = path_df[\\\"path\\\"].agg(lambda t: t.split(\\\"/\\\")[-3])\\nh, w = (720, 1280)\";\n",
       "                var nbb_formatted_code = \"path_df = pd.DataFrame({\\\"path\\\": glob.glob(\\\"../data/template/*/*/*.pickle\\\")})\\npath_df[\\\"group\\\"] = path_df[\\\"path\\\"].agg(lambda t: t.split(\\\"/\\\")[-2])\\npath_df[\\\"template\\\"] = path_df[\\\"path\\\"].agg(lambda t: t.split(\\\"/\\\")[-3])\\nh, w = (720, 1280)\";\n",
       "                var nbb_cells = Jupyter.notebook.get_cells();\n",
       "                for (var i = 0; i < nbb_cells.length; ++i) {\n",
       "                    if (nbb_cells[i].input_prompt_number == nbb_cell_id) {\n",
       "                        if (nbb_cells[i].get_text() == nbb_unformatted_code) {\n",
       "                             nbb_cells[i].set_text(nbb_formatted_code);\n",
       "                        }\n",
       "                        break;\n",
       "                    }\n",
       "                }\n",
       "            }, 500);\n",
       "            "
      ],
      "text/plain": [
       "<IPython.core.display.Javascript object>"
      ]
     },
     "metadata": {},
     "output_type": "display_data"
    }
   ],
   "source": [
    "path_df = pd.DataFrame({\"path\": glob.glob(\"../data/template/*/*/*.pickle\")})\n",
    "path_df[\"group\"] = path_df[\"path\"].agg(lambda t: t.split(\"/\")[-2])\n",
    "path_df[\"template\"] = path_df[\"path\"].agg(lambda t: t.split(\"/\")[-3])\n",
    "h, w = (720, 1280)"
   ]
  },
  {
   "cell_type": "code",
   "execution_count": 6,
   "metadata": {},
   "outputs": [
    {
     "data": {
      "application/vnd.jupyter.widget-view+json": {
       "model_id": "636b208a3f074f6280c470abc8e12bb1",
       "version_major": 2,
       "version_minor": 0
      },
      "text/plain": [
       "interactive(children=(IntSlider(value=0, description='i', max=5), Output()), _dom_classes=('widget-interact',)…"
      ]
     },
     "metadata": {},
     "output_type": "display_data"
    },
    {
     "data": {
      "application/javascript": [
       "\n",
       "            setTimeout(function() {\n",
       "                var nbb_cell_id = 6;\n",
       "                var nbb_unformatted_code = \"def extract_data(pathlist, normalize=False):\\n    data = []\\n    for path in sorted(pathlist):\\n        with open(path, \\\"rb\\\") as f:\\n            tmp = pickle.load(f)\\n        data.append([tmp.landmark[8].x, tmp.landmark[8].y])\\n    data = np.asarray(data)\\n    if normalize:\\n        min_x = np.min(data.T[0])\\n        max_x = np.max(data.T[0])\\n        min_y = np.min(data.T[1])\\n        max_y = np.max(data.T[1])\\n        data -= np.array([min_x, min_y])\\n        data /= np.array([max_x - min_x, max_y - min_y])\\n    return data\\n\\n\\ntemplates = sorted(path_df[\\\"template\\\"].unique())\\n\\n\\n@interact(i=(0, len(templates) - 1))\\ndef select_t(i=0):\\n    template = templates[i]\\n    t_df = path_df.query(\\\"template==@template\\\")\\n    groups = sorted(t_df[\\\"group\\\"].unique())\\n\\n    @interact(j=(0, len(groups) - 1))\\n    def select_g(j=0, normalize=False):\\n        group = groups[j]\\n        g_df = t_df.query(\\\"group==@group\\\")\\n        im = np.zeros([h, w, 3], dtype=np.uint8)\\n        data = extract_data(g_df[\\\"path\\\"], normalize)\\n        for x, y in data:\\n            cv2.circle(im, (int(w * x), int(h * y)), 5, (255, 0, 0), -1)\\n        plt.figure(figsize=(10, 6))\\n        plt.imshow(im[:, :, ::-1])\";\n",
       "                var nbb_formatted_code = \"def extract_data(pathlist, normalize=False):\\n    data = []\\n    for path in sorted(pathlist):\\n        with open(path, \\\"rb\\\") as f:\\n            tmp = pickle.load(f)\\n        data.append([tmp.landmark[8].x, tmp.landmark[8].y])\\n    data = np.asarray(data)\\n    if normalize:\\n        min_x = np.min(data.T[0])\\n        max_x = np.max(data.T[0])\\n        min_y = np.min(data.T[1])\\n        max_y = np.max(data.T[1])\\n        data -= np.array([min_x, min_y])\\n        data /= np.array([max_x - min_x, max_y - min_y])\\n    return data\\n\\n\\ntemplates = sorted(path_df[\\\"template\\\"].unique())\\n\\n\\n@interact(i=(0, len(templates) - 1))\\ndef select_t(i=0):\\n    template = templates[i]\\n    t_df = path_df.query(\\\"template==@template\\\")\\n    groups = sorted(t_df[\\\"group\\\"].unique())\\n\\n    @interact(j=(0, len(groups) - 1))\\n    def select_g(j=0, normalize=False):\\n        group = groups[j]\\n        g_df = t_df.query(\\\"group==@group\\\")\\n        im = np.zeros([h, w, 3], dtype=np.uint8)\\n        data = extract_data(g_df[\\\"path\\\"], normalize)\\n        for x, y in data:\\n            cv2.circle(im, (int(w * x), int(h * y)), 5, (255, 0, 0), -1)\\n        plt.figure(figsize=(10, 6))\\n        plt.imshow(im[:, :, ::-1])\";\n",
       "                var nbb_cells = Jupyter.notebook.get_cells();\n",
       "                for (var i = 0; i < nbb_cells.length; ++i) {\n",
       "                    if (nbb_cells[i].input_prompt_number == nbb_cell_id) {\n",
       "                        if (nbb_cells[i].get_text() == nbb_unformatted_code) {\n",
       "                             nbb_cells[i].set_text(nbb_formatted_code);\n",
       "                        }\n",
       "                        break;\n",
       "                    }\n",
       "                }\n",
       "            }, 500);\n",
       "            "
      ],
      "text/plain": [
       "<IPython.core.display.Javascript object>"
      ]
     },
     "metadata": {},
     "output_type": "display_data"
    }
   ],
   "source": [
    "def extract_data(pathlist, normalize=False):\n",
    "    data = []\n",
    "    for path in sorted(pathlist):\n",
    "        with open(path, \"rb\") as f:\n",
    "            tmp = pickle.load(f)\n",
    "        data.append([tmp.landmark[8].x, tmp.landmark[8].y])\n",
    "    data = np.asarray(data)\n",
    "    if normalize:\n",
    "        min_x = np.min(data.T[0])\n",
    "        max_x = np.max(data.T[0])\n",
    "        min_y = np.min(data.T[1])\n",
    "        max_y = np.max(data.T[1])\n",
    "        data -= np.array([min_x, min_y])\n",
    "        data /= np.array([max_x - min_x, max_y - min_y])\n",
    "    return data\n",
    "\n",
    "\n",
    "templates = sorted(path_df[\"template\"].unique())\n",
    "\n",
    "\n",
    "@interact(i=(0, len(templates) - 1))\n",
    "def select_t(i=0):\n",
    "    template = templates[i]\n",
    "    t_df = path_df.query(\"template==@template\")\n",
    "    groups = sorted(t_df[\"group\"].unique())\n",
    "\n",
    "    @interact(j=(0, len(groups) - 1))\n",
    "    def select_g(j=0, normalize=False):\n",
    "        group = groups[j]\n",
    "        g_df = t_df.query(\"group==@group\")\n",
    "        im = np.zeros([h, w, 3], dtype=np.uint8)\n",
    "        data = extract_data(g_df[\"path\"], normalize)\n",
    "        for x, y in data:\n",
    "            cv2.circle(im, (int(w * x), int(h * y)), 5, (255, 0, 0), -1)\n",
    "        plt.figure(figsize=(10, 6))\n",
    "        plt.imshow(im[:, :, ::-1])"
   ]
  },
  {
   "cell_type": "code",
   "execution_count": 7,
   "metadata": {},
   "outputs": [
    {
     "data": {
      "application/javascript": [
       "\n",
       "            setTimeout(function() {\n",
       "                var nbb_cell_id = 7;\n",
       "                var nbb_unformatted_code = \"normalize = True\\ntraj = defaultdict(list)\\nfor template in templates:\\n    t_df = path_df.query(\\\"template==@template\\\")\\n    groups = sorted(t_df[\\\"group\\\"].unique())\\n    for group in groups[1:]:\\n        g_df = t_df.query(\\\"group==@group\\\")\\n        traj[template].append(extract_data(g_df[\\\"path\\\"], normalize))\\n\\ntest_traj = defaultdict(list)\\nfor template in templates:\\n    t_df = path_df.query(\\\"template==@template\\\")\\n    groups = sorted(t_df[\\\"group\\\"].unique())\\n    for group in groups[0:1]:\\n        g_df = t_df.query(\\\"group==@group\\\")\\n        test_traj[template].append(extract_data(g_df[\\\"path\\\"], normalize))\";\n",
       "                var nbb_formatted_code = \"normalize = True\\ntraj = defaultdict(list)\\nfor template in templates:\\n    t_df = path_df.query(\\\"template==@template\\\")\\n    groups = sorted(t_df[\\\"group\\\"].unique())\\n    for group in groups[1:]:\\n        g_df = t_df.query(\\\"group==@group\\\")\\n        traj[template].append(extract_data(g_df[\\\"path\\\"], normalize))\\n\\ntest_traj = defaultdict(list)\\nfor template in templates:\\n    t_df = path_df.query(\\\"template==@template\\\")\\n    groups = sorted(t_df[\\\"group\\\"].unique())\\n    for group in groups[0:1]:\\n        g_df = t_df.query(\\\"group==@group\\\")\\n        test_traj[template].append(extract_data(g_df[\\\"path\\\"], normalize))\";\n",
       "                var nbb_cells = Jupyter.notebook.get_cells();\n",
       "                for (var i = 0; i < nbb_cells.length; ++i) {\n",
       "                    if (nbb_cells[i].input_prompt_number == nbb_cell_id) {\n",
       "                        if (nbb_cells[i].get_text() == nbb_unformatted_code) {\n",
       "                             nbb_cells[i].set_text(nbb_formatted_code);\n",
       "                        }\n",
       "                        break;\n",
       "                    }\n",
       "                }\n",
       "            }, 500);\n",
       "            "
      ],
      "text/plain": [
       "<IPython.core.display.Javascript object>"
      ]
     },
     "metadata": {},
     "output_type": "display_data"
    }
   ],
   "source": [
    "normalize = True\n",
    "traj = defaultdict(list)\n",
    "for template in templates:\n",
    "    t_df = path_df.query(\"template==@template\")\n",
    "    groups = sorted(t_df[\"group\"].unique())\n",
    "    for group in groups[1:]:\n",
    "        g_df = t_df.query(\"group==@group\")\n",
    "        traj[template].append(extract_data(g_df[\"path\"], normalize))\n",
    "\n",
    "test_traj = defaultdict(list)\n",
    "for template in templates:\n",
    "    t_df = path_df.query(\"template==@template\")\n",
    "    groups = sorted(t_df[\"group\"].unique())\n",
    "    for group in groups[0:1]:\n",
    "        g_df = t_df.query(\"group==@group\")\n",
    "        test_traj[template].append(extract_data(g_df[\"path\"], normalize))\n"
   ]
  },
  {
   "cell_type": "code",
   "execution_count": 8,
   "metadata": {},
   "outputs": [
    {
     "data": {
      "application/javascript": [
       "\n",
       "            setTimeout(function() {\n",
       "                var nbb_cell_id = 8;\n",
       "                var nbb_unformatted_code = \"scores = {}\\n\\nfor t_key,t_val in test_traj.items():\\n    scores[t_key]=defaultdict(list)\\n    for key,val_list in traj.items():\\n        for val in val_list:\\n            dp, path = dtw(t_val[0],val)\\n            scores[t_key][key].append(dp[-1][-1])\";\n",
       "                var nbb_formatted_code = \"scores = {}\\n\\nfor t_key, t_val in test_traj.items():\\n    scores[t_key] = defaultdict(list)\\n    for key, val_list in traj.items():\\n        for val in val_list:\\n            dp, path = dtw(t_val[0], val)\\n            scores[t_key][key].append(dp[-1][-1])\";\n",
       "                var nbb_cells = Jupyter.notebook.get_cells();\n",
       "                for (var i = 0; i < nbb_cells.length; ++i) {\n",
       "                    if (nbb_cells[i].input_prompt_number == nbb_cell_id) {\n",
       "                        if (nbb_cells[i].get_text() == nbb_unformatted_code) {\n",
       "                             nbb_cells[i].set_text(nbb_formatted_code);\n",
       "                        }\n",
       "                        break;\n",
       "                    }\n",
       "                }\n",
       "            }, 500);\n",
       "            "
      ],
      "text/plain": [
       "<IPython.core.display.Javascript object>"
      ]
     },
     "metadata": {},
     "output_type": "display_data"
    }
   ],
   "source": [
    "scores = {}\n",
    "\n",
    "for t_key,t_val in test_traj.items():\n",
    "    scores[t_key]=defaultdict(list)\n",
    "    for key,val_list in traj.items():\n",
    "        for val in val_list:\n",
    "            dp, path = dtw(t_val[0],val)\n",
    "            scores[t_key][key].append(dp[-1][-1])\n"
   ]
  },
  {
   "cell_type": "code",
   "execution_count": 9,
   "metadata": {},
   "outputs": [
    {
     "data": {
      "application/vnd.jupyter.widget-view+json": {
       "model_id": "2edd621599254edd9e55cc0001990599",
       "version_major": 2,
       "version_minor": 0
      },
      "text/plain": [
       "interactive(children=(Dropdown(description='t_key', options=('a', 'e', 'i', 'nadare', 'o', 'u'), value='a'), O…"
      ]
     },
     "metadata": {},
     "output_type": "display_data"
    },
    {
     "data": {
      "application/javascript": [
       "\n",
       "            setTimeout(function() {\n",
       "                var nbb_cell_id = 9;\n",
       "                var nbb_unformatted_code = \"key_list = list(test_traj.keys())\\n\\n\\n@interact(t_key=key_list)\\ndef select(t_key=key_list[0]):\\n    score = scores[t_key]\\n    plt.figure(figsize=(12, 6))\\n    for k, val in score.items():\\n        plt.scatter(range(len(val)), val, label=k)\\n    plt.legend()\";\n",
       "                var nbb_formatted_code = \"key_list = list(test_traj.keys())\\n\\n\\n@interact(t_key=key_list)\\ndef select(t_key=key_list[0]):\\n    score = scores[t_key]\\n    plt.figure(figsize=(12, 6))\\n    for k, val in score.items():\\n        plt.scatter(range(len(val)), val, label=k)\\n    plt.legend()\";\n",
       "                var nbb_cells = Jupyter.notebook.get_cells();\n",
       "                for (var i = 0; i < nbb_cells.length; ++i) {\n",
       "                    if (nbb_cells[i].input_prompt_number == nbb_cell_id) {\n",
       "                        if (nbb_cells[i].get_text() == nbb_unformatted_code) {\n",
       "                             nbb_cells[i].set_text(nbb_formatted_code);\n",
       "                        }\n",
       "                        break;\n",
       "                    }\n",
       "                }\n",
       "            }, 500);\n",
       "            "
      ],
      "text/plain": [
       "<IPython.core.display.Javascript object>"
      ]
     },
     "metadata": {},
     "output_type": "display_data"
    }
   ],
   "source": [
    "key_list = list(test_traj.keys())\n",
    "\n",
    "\n",
    "@interact(t_key=key_list)\n",
    "def select(t_key=key_list[0]):\n",
    "    score = scores[t_key]\n",
    "    plt.figure(figsize=(12, 6))\n",
    "    for k, val in score.items():\n",
    "        plt.scatter(range(len(val)), val, label=k)\n",
    "    plt.legend()"
   ]
  }
 ],
 "metadata": {
  "kernelspec": {
   "display_name": "ges_recog",
   "language": "python",
   "name": "ges_recog"
  },
  "language_info": {
   "codemirror_mode": {
    "name": "ipython",
    "version": 3
   },
   "file_extension": ".py",
   "mimetype": "text/x-python",
   "name": "python",
   "nbconvert_exporter": "python",
   "pygments_lexer": "ipython3",
   "version": "3.8.2"
  }
 },
 "nbformat": 4,
 "nbformat_minor": 4
}
