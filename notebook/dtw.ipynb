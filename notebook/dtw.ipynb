{
 "cells": [
  {
   "cell_type": "code",
   "execution_count": 45,
   "metadata": {},
   "outputs": [
    {
     "name": "stdout",
     "output_type": "stream",
     "text": [
      "The nb_black extension is already loaded. To reload it, use:\n",
      "  %reload_ext nb_black\n"
     ]
    },
    {
     "data": {
      "application/javascript": [
       "\n",
       "            setTimeout(function() {\n",
       "                var nbb_cell_id = 45;\n",
       "                var nbb_unformatted_code = \"%load_ext nb_black\\nimport numpy as np\\nfrom scipy.spatial import distance_matrix\\nimport matplotlib.pyplot as plt\\nimport matplotlib.gridspec as gridspec\\nimport seaborn as sns\\nimport os\\nfrom ipywidgets import interact\";\n",
       "                var nbb_formatted_code = \"%load_ext nb_black\\nimport numpy as np\\nfrom scipy.spatial import distance_matrix\\nimport matplotlib.pyplot as plt\\nimport matplotlib.gridspec as gridspec\\nimport seaborn as sns\\nimport os\\nfrom ipywidgets import interact\";\n",
       "                var nbb_cells = Jupyter.notebook.get_cells();\n",
       "                for (var i = 0; i < nbb_cells.length; ++i) {\n",
       "                    if (nbb_cells[i].input_prompt_number == nbb_cell_id) {\n",
       "                        if (nbb_cells[i].get_text() == nbb_unformatted_code) {\n",
       "                             nbb_cells[i].set_text(nbb_formatted_code);\n",
       "                        }\n",
       "                        break;\n",
       "                    }\n",
       "                }\n",
       "            }, 500);\n",
       "            "
      ],
      "text/plain": [
       "<IPython.core.display.Javascript object>"
      ]
     },
     "metadata": {},
     "output_type": "display_data"
    }
   ],
   "source": [
    "%load_ext nb_black\n",
    "import numpy as np\n",
    "from scipy.spatial import distance_matrix\n",
    "import matplotlib.pyplot as plt\n",
    "import matplotlib.gridspec as gridspec\n",
    "import seaborn as sns\n",
    "import os\n",
    "from ipywidgets import interact"
   ]
  },
  {
   "cell_type": "code",
   "execution_count": 48,
   "metadata": {},
   "outputs": [
    {
     "data": {
      "application/javascript": [
       "\n",
       "            setTimeout(function() {\n",
       "                var nbb_cell_id = 48;\n",
       "                var nbb_unformatted_code = \"def calc_min(v1, v2, v3):\\n    values = sorted([v1, v2, v3])\\n    indices = [[0, -1], [-1, 0], [-1, -1]]\\n    idx = [v1, v2, v3].index(values[0])\\n    return values[0], indices[idx]\\n\\n\\ndef dtw(s1, s2):\\n    n = len(s1)\\n    m = len(s2)\\n    INF = 1e9\\n    cost_mat = distance_matrix(s1.reshape(n, 1), s2.reshape(m, 1))\\n\\n    dp = np.ones([n, m]) * INF\\n    path = [[list() for i in range(m)] for j in range(n)]\\n    dp[0][0] = cost_mat[0][0]\\n\\n    for i in range(n):\\n        for j in range(m):\\n            if i == 0 and j == 0:\\n                continue\\n            v1 = dp[i][j - 1] if j > 0 else INF\\n            v2 = dp[i - 1][j] if i > 0 else INF\\n            v3 = dp[i - 1][j - 1] if i > 0 and j > 0 else INF\\n\\n            val, indices = calc_min(v1, v2, v3)\\n\\n            dp[i][j] = val + cost_mat[i][j]\\n            path[i][j] = path[i + indices[0]][j + indices[1]].copy()\\n            path[i][j].append([i + indices[0], j + indices[1]])\\n\\n    path[n - 1][m - 1].append([n - 1, m - 1])\\n    return dp, path\\n\\n\\ndef visualize(a, b, dp, path):\\n    plt.figure(figsize=(10, 8))\\n    gs = gridspec.GridSpec(2, 2, width_ratios=[1, 5], height_ratios=[5, 1])\\n    ax1 = plt.subplot(gs[0])\\n    ax2 = plt.subplot(gs[1])\\n    ax4 = plt.subplot(gs[3])\\n    ax1.plot(a, range(len(a)), c=\\\"blue\\\")\\n    ax1.invert_xaxis()\\n    ax4.plot(b, c=\\\"orange\\\")\\n    sns.heatmap(dp, ax=ax2, cmap=\\\"Blues\\\")\\n    ax2.invert_yaxis()\\n\\n    x = [p[0] + 0.5 for p in path]\\n    y = [p[1] + 0.5 for p in path]\\n    ax2.plot(x, y, c=\\\"red\\\")\\n    plt.show()\\n\\n    plt.figure(figsize=(10, 5))\\n    plt.plot(a, c=\\\"blue\\\", label=\\\"a\\\")\\n    plt.plot(b, c=\\\"orange\\\", label=\\\"b\\\")\\n    for ia, ib in path:\\n        _x = [ia, ib]\\n        _y = [a[ia], b[ib]]\\n        plt.plot(_x, _y, c=\\\"gray\\\")\\n        plt.scatter(ia, a[ia], c=\\\"r\\\")\\n    plt.legend()\";\n",
       "                var nbb_formatted_code = \"def calc_min(v1, v2, v3):\\n    values = sorted([v1, v2, v3])\\n    indices = [[0, -1], [-1, 0], [-1, -1]]\\n    idx = [v1, v2, v3].index(values[0])\\n    return values[0], indices[idx]\\n\\n\\ndef dtw(s1, s2):\\n    n = len(s1)\\n    m = len(s2)\\n    INF = 1e9\\n    cost_mat = distance_matrix(s1.reshape(n, 1), s2.reshape(m, 1))\\n\\n    dp = np.ones([n, m]) * INF\\n    path = [[list() for i in range(m)] for j in range(n)]\\n    dp[0][0] = cost_mat[0][0]\\n\\n    for i in range(n):\\n        for j in range(m):\\n            if i == 0 and j == 0:\\n                continue\\n            v1 = dp[i][j - 1] if j > 0 else INF\\n            v2 = dp[i - 1][j] if i > 0 else INF\\n            v3 = dp[i - 1][j - 1] if i > 0 and j > 0 else INF\\n\\n            val, indices = calc_min(v1, v2, v3)\\n\\n            dp[i][j] = val + cost_mat[i][j]\\n            path[i][j] = path[i + indices[0]][j + indices[1]].copy()\\n            path[i][j].append([i + indices[0], j + indices[1]])\\n\\n    path[n - 1][m - 1].append([n - 1, m - 1])\\n    return dp, path\\n\\n\\ndef visualize(a, b, dp, path):\\n    plt.figure(figsize=(10, 8))\\n    gs = gridspec.GridSpec(2, 2, width_ratios=[1, 5], height_ratios=[5, 1])\\n    ax1 = plt.subplot(gs[0])\\n    ax2 = plt.subplot(gs[1])\\n    ax4 = plt.subplot(gs[3])\\n    ax1.plot(a, range(len(a)), c=\\\"blue\\\")\\n    ax1.invert_xaxis()\\n    ax4.plot(b, c=\\\"orange\\\")\\n    sns.heatmap(dp, ax=ax2, cmap=\\\"Blues\\\")\\n    ax2.invert_yaxis()\\n\\n    x = [p[0] + 0.5 for p in path]\\n    y = [p[1] + 0.5 for p in path]\\n    ax2.plot(x, y, c=\\\"red\\\")\\n    plt.show()\\n\\n    plt.figure(figsize=(10, 5))\\n    plt.plot(a, c=\\\"blue\\\", label=\\\"a\\\")\\n    plt.plot(b, c=\\\"orange\\\", label=\\\"b\\\")\\n    for ia, ib in path:\\n        _x = [ia, ib]\\n        _y = [a[ia], b[ib]]\\n        plt.plot(_x, _y, c=\\\"gray\\\")\\n        plt.scatter(ia, a[ia], c=\\\"r\\\")\\n    plt.legend()\";\n",
       "                var nbb_cells = Jupyter.notebook.get_cells();\n",
       "                for (var i = 0; i < nbb_cells.length; ++i) {\n",
       "                    if (nbb_cells[i].input_prompt_number == nbb_cell_id) {\n",
       "                        if (nbb_cells[i].get_text() == nbb_unformatted_code) {\n",
       "                             nbb_cells[i].set_text(nbb_formatted_code);\n",
       "                        }\n",
       "                        break;\n",
       "                    }\n",
       "                }\n",
       "            }, 500);\n",
       "            "
      ],
      "text/plain": [
       "<IPython.core.display.Javascript object>"
      ]
     },
     "metadata": {},
     "output_type": "display_data"
    }
   ],
   "source": [
    "def calc_min(v1, v2, v3):\n",
    "    values = sorted([v1, v2, v3])\n",
    "    indices = [[0, -1], [-1, 0], [-1, -1]]\n",
    "    idx = [v1, v2, v3].index(values[0])\n",
    "    return values[0], indices[idx]\n",
    "\n",
    "\n",
    "def dtw(s1, s2):\n",
    "    n = len(s1)\n",
    "    m = len(s2)\n",
    "    INF = 1e9\n",
    "    cost_mat = distance_matrix(s1.reshape(n, 1), s2.reshape(m, 1))\n",
    "\n",
    "    dp = np.ones([n, m]) * INF\n",
    "    path = [[list() for i in range(m)] for j in range(n)]\n",
    "    dp[0][0] = cost_mat[0][0]\n",
    "\n",
    "    for i in range(n):\n",
    "        for j in range(m):\n",
    "            if i == 0 and j == 0:\n",
    "                continue\n",
    "            v1 = dp[i][j - 1] if j > 0 else INF\n",
    "            v2 = dp[i - 1][j] if i > 0 else INF\n",
    "            v3 = dp[i - 1][j - 1] if i > 0 and j > 0 else INF\n",
    "\n",
    "            val, indices = calc_min(v1, v2, v3)\n",
    "\n",
    "            dp[i][j] = val + cost_mat[i][j]\n",
    "            path[i][j] = path[i + indices[0]][j + indices[1]].copy()\n",
    "            path[i][j].append([i + indices[0], j + indices[1]])\n",
    "\n",
    "    path[n - 1][m - 1].append([n - 1, m - 1])\n",
    "    return dp, path\n",
    "\n",
    "\n",
    "def visualize(a, b, dp, path):\n",
    "    plt.figure(figsize=(10, 8))\n",
    "    gs = gridspec.GridSpec(2, 2, width_ratios=[1, 5], height_ratios=[5, 1])\n",
    "    ax1 = plt.subplot(gs[0])\n",
    "    ax2 = plt.subplot(gs[1])\n",
    "    ax4 = plt.subplot(gs[3])\n",
    "    ax1.plot(a, range(len(a)), c=\"blue\")\n",
    "    ax1.invert_xaxis()\n",
    "    ax4.plot(b, c=\"orange\")\n",
    "    sns.heatmap(dp, ax=ax2, cmap=\"Blues\")\n",
    "    ax2.invert_yaxis()\n",
    "\n",
    "    x = [p[0] + 0.5 for p in path]\n",
    "    y = [p[1] + 0.5 for p in path]\n",
    "    ax2.plot(x, y, c=\"red\")\n",
    "    plt.show()\n",
    "\n",
    "    plt.figure(figsize=(10, 5))\n",
    "    plt.plot(a, c=\"blue\", label=\"a\")\n",
    "    plt.plot(b, c=\"orange\", label=\"b\")\n",
    "    for ia, ib in path:\n",
    "        _x = [ia, ib]\n",
    "        _y = [a[ia], b[ib]]\n",
    "        plt.plot(_x, _y, c=\"gray\")\n",
    "        plt.scatter(ia, a[ia], c=\"r\")\n",
    "    plt.legend()"
   ]
  },
  {
   "cell_type": "code",
   "execution_count": 49,
   "metadata": {},
   "outputs": [
    {
     "data": {
      "application/vnd.jupyter.widget-view+json": {
       "model_id": "ce747c8c42b64b6f988106b24e64697a",
       "version_major": 2,
       "version_minor": 0
      },
      "text/plain": [
       "interactive(children=(IntSlider(value=45, description='diff', max=360, step=10), Output()), _dom_classes=('wid…"
      ]
     },
     "metadata": {},
     "output_type": "display_data"
    },
    {
     "data": {
      "application/javascript": [
       "\n",
       "            setTimeout(function() {\n",
       "                var nbb_cell_id = 49;\n",
       "                var nbb_unformatted_code = \"@interact(diff=(0, 360, 10))\\ndef select(diff=45):\\n    theta_a = [i for i in range(0, 360, 5)]\\n    theta_b = [i + diff for i in range(0, 360, 5)]\\n    a = np.sin([np.radians(i) for i in theta_a])\\n    b = np.sin([np.radians(i) for i in theta_b])\\n\\n    dp, path = dtw(a, b)\\n    print(f\\\"min_cost:{dp[-1][-1]}\\\")\\n    visualize(a, b, dp, path[-1][-1])\";\n",
       "                var nbb_formatted_code = \"@interact(diff=(0, 360, 10))\\ndef select(diff=45):\\n    theta_a = [i for i in range(0, 360, 5)]\\n    theta_b = [i + diff for i in range(0, 360, 5)]\\n    a = np.sin([np.radians(i) for i in theta_a])\\n    b = np.sin([np.radians(i) for i in theta_b])\\n\\n    dp, path = dtw(a, b)\\n    print(f\\\"min_cost:{dp[-1][-1]}\\\")\\n    visualize(a, b, dp, path[-1][-1])\";\n",
       "                var nbb_cells = Jupyter.notebook.get_cells();\n",
       "                for (var i = 0; i < nbb_cells.length; ++i) {\n",
       "                    if (nbb_cells[i].input_prompt_number == nbb_cell_id) {\n",
       "                        if (nbb_cells[i].get_text() == nbb_unformatted_code) {\n",
       "                             nbb_cells[i].set_text(nbb_formatted_code);\n",
       "                        }\n",
       "                        break;\n",
       "                    }\n",
       "                }\n",
       "            }, 500);\n",
       "            "
      ],
      "text/plain": [
       "<IPython.core.display.Javascript object>"
      ]
     },
     "metadata": {},
     "output_type": "display_data"
    }
   ],
   "source": [
    "@interact(diff=(0, 360, 10))\n",
    "def select(diff=45):\n",
    "    theta_a = [i for i in range(0, 360, 5)]\n",
    "    theta_b = [i + diff for i in range(0, 360, 5)]\n",
    "    a = np.sin([np.radians(i) for i in theta_a])\n",
    "    b = np.sin([np.radians(i) for i in theta_b])\n",
    "\n",
    "    dp, path = dtw(a, b)\n",
    "    print(f\"min_cost:{dp[-1][-1]}\")\n",
    "    visualize(a, b, dp, path[-1][-1])"
   ]
  }
 ],
 "metadata": {
  "kernelspec": {
   "display_name": "ges_recog",
   "language": "python",
   "name": "ges_recog"
  },
  "language_info": {
   "codemirror_mode": {
    "name": "ipython",
    "version": 3
   },
   "file_extension": ".py",
   "mimetype": "text/x-python",
   "name": "python",
   "nbconvert_exporter": "python",
   "pygments_lexer": "ipython3",
   "version": "3.8.2"
  }
 },
 "nbformat": 4,
 "nbformat_minor": 4
}
